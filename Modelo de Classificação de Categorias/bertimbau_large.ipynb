{
  "cells": [
    {
      "cell_type": "markdown",
      "source": [
        "\n",
        "# Fine Tuning\n",
        "\n"
      ],
      "metadata": {
        "id": "0lPWw_eLG4iw"
      }
    },
    {
      "cell_type": "markdown",
      "source": [
        "## Preparação dos Dados"
      ],
      "metadata": {
        "id": "9S4fKLZMTS4u"
      }
    },
    {
      "cell_type": "code",
      "execution_count": null,
      "metadata": {
        "id": "_zk4k1vTJR5f"
      },
      "outputs": [],
      "source": [
        "import pandas as pd"
      ]
    },
    {
      "cell_type": "code",
      "execution_count": null,
      "metadata": {
        "colab": {
          "base_uri": "https://localhost:8080/"
        },
        "id": "GYtm6Y1FJlu8",
        "outputId": "ed9d13a5-ef2a-4667-bf29-2566a3af4e23"
      },
      "outputs": [
        {
          "output_type": "stream",
          "name": "stdout",
          "text": [
            "Drive already mounted at /content/drive; to attempt to forcibly remount, call drive.mount(\"/content/drive\", force_remount=True).\n"
          ]
        }
      ],
      "source": [
        "from google.colab import drive\n",
        "drive.mount('/content/drive')"
      ]
    },
    {
      "cell_type": "code",
      "source": [
        "from sklearn.metrics import accuracy_score, precision_score, recall_score, f1_score"
      ],
      "metadata": {
        "id": "lckhQVtnQ7ii"
      },
      "execution_count": null,
      "outputs": []
    },
    {
      "cell_type": "code",
      "execution_count": null,
      "metadata": {
        "id": "WyJp5HZtJpyj"
      },
      "outputs": [],
      "source": [
        "caminho_arquivo = '/content/drive/MyDrive/JIS/anotações.csv'\n",
        "df = pd.read_csv(caminho_arquivo)"
      ]
    },
    {
      "cell_type": "code",
      "source": [
        "df.head()"
      ],
      "metadata": {
        "colab": {
          "base_uri": "https://localhost:8080/",
          "height": 206
        },
        "id": "kn5WrtQxFfzf",
        "outputId": "2a509f92-80d8-4ae1-80f9-4c00860e94a6"
      },
      "execution_count": null,
      "outputs": [
        {
          "output_type": "execute_result",
          "data": {
            "text/plain": [
              "                 Frase  Categoria\n",
              "0  ela é muito sensual  Aparência\n",
              "1          menina bela  Aparência\n",
              "2     você é diferente      Outro\n",
              "3          ela é linda  Aparência\n",
              "4      ela é guerreira    Caráter"
            ],
            "text/html": [
              "\n",
              "  <div id=\"df-987446c2-e2a0-4574-8a37-d9c13bdb6032\" class=\"colab-df-container\">\n",
              "    <div>\n",
              "<style scoped>\n",
              "    .dataframe tbody tr th:only-of-type {\n",
              "        vertical-align: middle;\n",
              "    }\n",
              "\n",
              "    .dataframe tbody tr th {\n",
              "        vertical-align: top;\n",
              "    }\n",
              "\n",
              "    .dataframe thead th {\n",
              "        text-align: right;\n",
              "    }\n",
              "</style>\n",
              "<table border=\"1\" class=\"dataframe\">\n",
              "  <thead>\n",
              "    <tr style=\"text-align: right;\">\n",
              "      <th></th>\n",
              "      <th>Frase</th>\n",
              "      <th>Categoria</th>\n",
              "    </tr>\n",
              "  </thead>\n",
              "  <tbody>\n",
              "    <tr>\n",
              "      <th>0</th>\n",
              "      <td>ela é muito sensual</td>\n",
              "      <td>Aparência</td>\n",
              "    </tr>\n",
              "    <tr>\n",
              "      <th>1</th>\n",
              "      <td>menina bela</td>\n",
              "      <td>Aparência</td>\n",
              "    </tr>\n",
              "    <tr>\n",
              "      <th>2</th>\n",
              "      <td>você é diferente</td>\n",
              "      <td>Outro</td>\n",
              "    </tr>\n",
              "    <tr>\n",
              "      <th>3</th>\n",
              "      <td>ela é linda</td>\n",
              "      <td>Aparência</td>\n",
              "    </tr>\n",
              "    <tr>\n",
              "      <th>4</th>\n",
              "      <td>ela é guerreira</td>\n",
              "      <td>Caráter</td>\n",
              "    </tr>\n",
              "  </tbody>\n",
              "</table>\n",
              "</div>\n",
              "    <div class=\"colab-df-buttons\">\n",
              "\n",
              "  <div class=\"colab-df-container\">\n",
              "    <button class=\"colab-df-convert\" onclick=\"convertToInteractive('df-987446c2-e2a0-4574-8a37-d9c13bdb6032')\"\n",
              "            title=\"Convert this dataframe to an interactive table.\"\n",
              "            style=\"display:none;\">\n",
              "\n",
              "  <svg xmlns=\"http://www.w3.org/2000/svg\" height=\"24px\" viewBox=\"0 -960 960 960\">\n",
              "    <path d=\"M120-120v-720h720v720H120Zm60-500h600v-160H180v160Zm220 220h160v-160H400v160Zm0 220h160v-160H400v160ZM180-400h160v-160H180v160Zm440 0h160v-160H620v160ZM180-180h160v-160H180v160Zm440 0h160v-160H620v160Z\"/>\n",
              "  </svg>\n",
              "    </button>\n",
              "\n",
              "  <style>\n",
              "    .colab-df-container {\n",
              "      display:flex;\n",
              "      gap: 12px;\n",
              "    }\n",
              "\n",
              "    .colab-df-convert {\n",
              "      background-color: #E8F0FE;\n",
              "      border: none;\n",
              "      border-radius: 50%;\n",
              "      cursor: pointer;\n",
              "      display: none;\n",
              "      fill: #1967D2;\n",
              "      height: 32px;\n",
              "      padding: 0 0 0 0;\n",
              "      width: 32px;\n",
              "    }\n",
              "\n",
              "    .colab-df-convert:hover {\n",
              "      background-color: #E2EBFA;\n",
              "      box-shadow: 0px 1px 2px rgba(60, 64, 67, 0.3), 0px 1px 3px 1px rgba(60, 64, 67, 0.15);\n",
              "      fill: #174EA6;\n",
              "    }\n",
              "\n",
              "    .colab-df-buttons div {\n",
              "      margin-bottom: 4px;\n",
              "    }\n",
              "\n",
              "    [theme=dark] .colab-df-convert {\n",
              "      background-color: #3B4455;\n",
              "      fill: #D2E3FC;\n",
              "    }\n",
              "\n",
              "    [theme=dark] .colab-df-convert:hover {\n",
              "      background-color: #434B5C;\n",
              "      box-shadow: 0px 1px 3px 1px rgba(0, 0, 0, 0.15);\n",
              "      filter: drop-shadow(0px 1px 2px rgba(0, 0, 0, 0.3));\n",
              "      fill: #FFFFFF;\n",
              "    }\n",
              "  </style>\n",
              "\n",
              "    <script>\n",
              "      const buttonEl =\n",
              "        document.querySelector('#df-987446c2-e2a0-4574-8a37-d9c13bdb6032 button.colab-df-convert');\n",
              "      buttonEl.style.display =\n",
              "        google.colab.kernel.accessAllowed ? 'block' : 'none';\n",
              "\n",
              "      async function convertToInteractive(key) {\n",
              "        const element = document.querySelector('#df-987446c2-e2a0-4574-8a37-d9c13bdb6032');\n",
              "        const dataTable =\n",
              "          await google.colab.kernel.invokeFunction('convertToInteractive',\n",
              "                                                    [key], {});\n",
              "        if (!dataTable) return;\n",
              "\n",
              "        const docLinkHtml = 'Like what you see? Visit the ' +\n",
              "          '<a target=\"_blank\" href=https://colab.research.google.com/notebooks/data_table.ipynb>data table notebook</a>'\n",
              "          + ' to learn more about interactive tables.';\n",
              "        element.innerHTML = '';\n",
              "        dataTable['output_type'] = 'display_data';\n",
              "        await google.colab.output.renderOutput(dataTable, element);\n",
              "        const docLink = document.createElement('div');\n",
              "        docLink.innerHTML = docLinkHtml;\n",
              "        element.appendChild(docLink);\n",
              "      }\n",
              "    </script>\n",
              "  </div>\n",
              "\n",
              "\n",
              "<div id=\"df-2f86eef3-22ff-45a0-891e-747990fa6377\">\n",
              "  <button class=\"colab-df-quickchart\" onclick=\"quickchart('df-2f86eef3-22ff-45a0-891e-747990fa6377')\"\n",
              "            title=\"Suggest charts\"\n",
              "            style=\"display:none;\">\n",
              "\n",
              "<svg xmlns=\"http://www.w3.org/2000/svg\" height=\"24px\"viewBox=\"0 0 24 24\"\n",
              "     width=\"24px\">\n",
              "    <g>\n",
              "        <path d=\"M19 3H5c-1.1 0-2 .9-2 2v14c0 1.1.9 2 2 2h14c1.1 0 2-.9 2-2V5c0-1.1-.9-2-2-2zM9 17H7v-7h2v7zm4 0h-2V7h2v10zm4 0h-2v-4h2v4z\"/>\n",
              "    </g>\n",
              "</svg>\n",
              "  </button>\n",
              "\n",
              "<style>\n",
              "  .colab-df-quickchart {\n",
              "      --bg-color: #E8F0FE;\n",
              "      --fill-color: #1967D2;\n",
              "      --hover-bg-color: #E2EBFA;\n",
              "      --hover-fill-color: #174EA6;\n",
              "      --disabled-fill-color: #AAA;\n",
              "      --disabled-bg-color: #DDD;\n",
              "  }\n",
              "\n",
              "  [theme=dark] .colab-df-quickchart {\n",
              "      --bg-color: #3B4455;\n",
              "      --fill-color: #D2E3FC;\n",
              "      --hover-bg-color: #434B5C;\n",
              "      --hover-fill-color: #FFFFFF;\n",
              "      --disabled-bg-color: #3B4455;\n",
              "      --disabled-fill-color: #666;\n",
              "  }\n",
              "\n",
              "  .colab-df-quickchart {\n",
              "    background-color: var(--bg-color);\n",
              "    border: none;\n",
              "    border-radius: 50%;\n",
              "    cursor: pointer;\n",
              "    display: none;\n",
              "    fill: var(--fill-color);\n",
              "    height: 32px;\n",
              "    padding: 0;\n",
              "    width: 32px;\n",
              "  }\n",
              "\n",
              "  .colab-df-quickchart:hover {\n",
              "    background-color: var(--hover-bg-color);\n",
              "    box-shadow: 0 1px 2px rgba(60, 64, 67, 0.3), 0 1px 3px 1px rgba(60, 64, 67, 0.15);\n",
              "    fill: var(--button-hover-fill-color);\n",
              "  }\n",
              "\n",
              "  .colab-df-quickchart-complete:disabled,\n",
              "  .colab-df-quickchart-complete:disabled:hover {\n",
              "    background-color: var(--disabled-bg-color);\n",
              "    fill: var(--disabled-fill-color);\n",
              "    box-shadow: none;\n",
              "  }\n",
              "\n",
              "  .colab-df-spinner {\n",
              "    border: 2px solid var(--fill-color);\n",
              "    border-color: transparent;\n",
              "    border-bottom-color: var(--fill-color);\n",
              "    animation:\n",
              "      spin 1s steps(1) infinite;\n",
              "  }\n",
              "\n",
              "  @keyframes spin {\n",
              "    0% {\n",
              "      border-color: transparent;\n",
              "      border-bottom-color: var(--fill-color);\n",
              "      border-left-color: var(--fill-color);\n",
              "    }\n",
              "    20% {\n",
              "      border-color: transparent;\n",
              "      border-left-color: var(--fill-color);\n",
              "      border-top-color: var(--fill-color);\n",
              "    }\n",
              "    30% {\n",
              "      border-color: transparent;\n",
              "      border-left-color: var(--fill-color);\n",
              "      border-top-color: var(--fill-color);\n",
              "      border-right-color: var(--fill-color);\n",
              "    }\n",
              "    40% {\n",
              "      border-color: transparent;\n",
              "      border-right-color: var(--fill-color);\n",
              "      border-top-color: var(--fill-color);\n",
              "    }\n",
              "    60% {\n",
              "      border-color: transparent;\n",
              "      border-right-color: var(--fill-color);\n",
              "    }\n",
              "    80% {\n",
              "      border-color: transparent;\n",
              "      border-right-color: var(--fill-color);\n",
              "      border-bottom-color: var(--fill-color);\n",
              "    }\n",
              "    90% {\n",
              "      border-color: transparent;\n",
              "      border-bottom-color: var(--fill-color);\n",
              "    }\n",
              "  }\n",
              "</style>\n",
              "\n",
              "  <script>\n",
              "    async function quickchart(key) {\n",
              "      const quickchartButtonEl =\n",
              "        document.querySelector('#' + key + ' button');\n",
              "      quickchartButtonEl.disabled = true;  // To prevent multiple clicks.\n",
              "      quickchartButtonEl.classList.add('colab-df-spinner');\n",
              "      try {\n",
              "        const charts = await google.colab.kernel.invokeFunction(\n",
              "            'suggestCharts', [key], {});\n",
              "      } catch (error) {\n",
              "        console.error('Error during call to suggestCharts:', error);\n",
              "      }\n",
              "      quickchartButtonEl.classList.remove('colab-df-spinner');\n",
              "      quickchartButtonEl.classList.add('colab-df-quickchart-complete');\n",
              "    }\n",
              "    (() => {\n",
              "      let quickchartButtonEl =\n",
              "        document.querySelector('#df-2f86eef3-22ff-45a0-891e-747990fa6377 button');\n",
              "      quickchartButtonEl.style.display =\n",
              "        google.colab.kernel.accessAllowed ? 'block' : 'none';\n",
              "    })();\n",
              "  </script>\n",
              "</div>\n",
              "\n",
              "    </div>\n",
              "  </div>\n"
            ],
            "application/vnd.google.colaboratory.intrinsic+json": {
              "type": "dataframe",
              "variable_name": "df",
              "summary": "{\n  \"name\": \"df\",\n  \"rows\": 2000,\n  \"fields\": [\n    {\n      \"column\": \"Frase\",\n      \"properties\": {\n        \"dtype\": \"string\",\n        \"num_unique_values\": 1989,\n        \"samples\": [\n          \"menino batuqueiro\",\n          \"voc\\u00ea era mestre\",\n          \"ela ta feliz\"\n        ],\n        \"semantic_type\": \"\",\n        \"description\": \"\"\n      }\n    },\n    {\n      \"column\": \"Categoria\",\n      \"properties\": {\n        \"dtype\": \"category\",\n        \"num_unique_values\": 5,\n        \"samples\": [\n          \"Outro\",\n          \"Emo\\u00e7\\u00e3o\",\n          \"Car\\u00e1ter\"\n        ],\n        \"semantic_type\": \"\",\n        \"description\": \"\"\n      }\n    }\n  ]\n}"
            }
          },
          "metadata": {},
          "execution_count": 5
        }
      ]
    },
    {
      "cell_type": "code",
      "source": [
        "df.shape"
      ],
      "metadata": {
        "colab": {
          "base_uri": "https://localhost:8080/"
        },
        "id": "0-Ky7SAgy1xW",
        "outputId": "d6793996-87b5-4ad5-cb13-d6e261dd874b"
      },
      "execution_count": null,
      "outputs": [
        {
          "output_type": "execute_result",
          "data": {
            "text/plain": [
              "(2000, 2)"
            ]
          },
          "metadata": {},
          "execution_count": 6
        }
      ]
    },
    {
      "cell_type": "code",
      "source": [
        "df = df[df['Categoria'].notna()]"
      ],
      "metadata": {
        "id": "EyReFEAOG07d"
      },
      "execution_count": null,
      "outputs": []
    },
    {
      "cell_type": "code",
      "execution_count": null,
      "metadata": {
        "colab": {
          "base_uri": "https://localhost:8080/"
        },
        "id": "piUx-90nJvp8",
        "outputId": "8d1d87b6-ae83-4ae8-83c6-366a96b215cd"
      },
      "outputs": [
        {
          "output_type": "stream",
          "name": "stdout",
          "text": [
            "Categoria\n",
            "Papel Social    511\n",
            "Caráter         491\n",
            "Aparência       378\n",
            "Outro           362\n",
            "Emoção          258\n",
            "Name: count, dtype: int64\n"
          ]
        }
      ],
      "source": [
        "categoria_counts = df['Categoria'].value_counts()\n",
        "print(categoria_counts)"
      ]
    },
    {
      "cell_type": "code",
      "source": [
        "X = df['Frase'].values  # Frases\n",
        "y = df['Categoria'].values  # Rótulos"
      ],
      "metadata": {
        "id": "E0V0O9XANY0D"
      },
      "execution_count": null,
      "outputs": []
    },
    {
      "cell_type": "code",
      "source": [
        "from sklearn.preprocessing import LabelEncoder"
      ],
      "metadata": {
        "id": "-6dbdk-qOqiR"
      },
      "execution_count": null,
      "outputs": []
    },
    {
      "cell_type": "code",
      "source": [
        "label_encoder = LabelEncoder()\n",
        "y = label_encoder.fit_transform(df['Categoria'])"
      ],
      "metadata": {
        "id": "6z3WIEAKOkH7"
      },
      "execution_count": null,
      "outputs": []
    },
    {
      "cell_type": "code",
      "source": [
        "classes_mapeadas = dict(zip(label_encoder.classes_, range(len(label_encoder.classes_))))\n",
        "print(classes_mapeadas)"
      ],
      "metadata": {
        "colab": {
          "base_uri": "https://localhost:8080/"
        },
        "id": "AtnXOqYFiCnZ",
        "outputId": "d0ff31d0-4fee-4a3c-aeb2-4b377ec14715"
      },
      "execution_count": null,
      "outputs": [
        {
          "output_type": "stream",
          "name": "stdout",
          "text": [
            "{'Aparência': 0, 'Caráter': 1, 'Emoção': 2, 'Outro': 3, 'Papel Social': 4}\n"
          ]
        }
      ]
    },
    {
      "cell_type": "code",
      "source": [
        "from imblearn.over_sampling import RandomOverSampler"
      ],
      "metadata": {
        "id": "MnP2hVCCV4r9"
      },
      "execution_count": null,
      "outputs": []
    },
    {
      "cell_type": "code",
      "source": [
        "def balance_classes(X, y):\n",
        "    ros = RandomOverSampler(random_state=42)\n",
        "    X, y = ros.fit_resample(X.reshape(-1, 1), y)\n",
        "    return X.flatten(), y"
      ],
      "metadata": {
        "id": "7PJjFfBtVavP"
      },
      "execution_count": null,
      "outputs": []
    },
    {
      "cell_type": "code",
      "source": [
        "from sklearn.model_selection import StratifiedKFold\n",
        "import numpy as np\n",
        "import torch\n",
        "from torch.utils.data import DataLoader, Dataset\n",
        "from transformers import BertTokenizer, BertForSequenceClassification\n",
        "from torch.optim import AdamW"
      ],
      "metadata": {
        "id": "x5-Td_SkNcOD"
      },
      "execution_count": null,
      "outputs": []
    },
    {
      "cell_type": "code",
      "source": [
        "class TextDataset(Dataset):\n",
        "    def __init__(self, texts, labels, tokenizer, max_length=128):\n",
        "        self.texts = texts\n",
        "        self.labels = labels\n",
        "        self.tokenizer = tokenizer\n",
        "        self.max_length = max_length\n",
        "\n",
        "    def __len__(self):\n",
        "        return len(self.texts)\n",
        "\n",
        "    def __getitem__(self, idx):\n",
        "        text = self.texts[idx]\n",
        "        label = self.labels[idx]\n",
        "\n",
        "        encoding = self.tokenizer.encode_plus(\n",
        "            text,\n",
        "            add_special_tokens=True,\n",
        "            max_length=self.max_length,\n",
        "            return_token_type_ids=False,\n",
        "            padding='max_length',\n",
        "            truncation=True,\n",
        "            return_attention_mask=True,\n",
        "            return_tensors='pt',\n",
        "        )\n",
        "\n",
        "        return {\n",
        "            'input_ids': encoding['input_ids'].flatten(),\n",
        "            'attention_mask': encoding['attention_mask'].flatten(),\n",
        "            'labels': torch.tensor(label, dtype=torch.long)\n",
        "        }"
      ],
      "metadata": {
        "id": "G58UQMOyNe-C"
      },
      "execution_count": null,
      "outputs": []
    },
    {
      "cell_type": "markdown",
      "source": [
        "## Treinamento"
      ],
      "metadata": {
        "id": "eoFNgR4eTecl"
      }
    },
    {
      "cell_type": "code",
      "source": [
        "# treinamento\n",
        "def train_model(model, data_loader, optimizer):\n",
        "    model = model.train()\n",
        "    total_loss = 0\n",
        "    for batch in data_loader:\n",
        "        optimizer.zero_grad()\n",
        "\n",
        "        input_ids = batch['input_ids'].to(device)\n",
        "        attention_mask = batch['attention_mask'].to(device)\n",
        "        labels = batch['labels'].to(device)\n",
        "\n",
        "        outputs = model(\n",
        "            input_ids=input_ids,\n",
        "            attention_mask=attention_mask,\n",
        "            labels=labels\n",
        "        )\n",
        "\n",
        "        loss = outputs.loss\n",
        "        total_loss += loss.item()\n",
        "\n",
        "        loss.backward()\n",
        "        optimizer.step()\n",
        "\n",
        "    return total_loss / len(data_loader)"
      ],
      "metadata": {
        "id": "0q9YNghpNhvi"
      },
      "execution_count": null,
      "outputs": []
    },
    {
      "cell_type": "markdown",
      "source": [
        "## Avaliação"
      ],
      "metadata": {
        "id": "0WYnCtAAThc9"
      }
    },
    {
      "cell_type": "code",
      "source": [
        "# avaliação\n",
        "from sklearn.metrics import classification_report\n",
        "\n",
        "def evaluate_model(model, data_loader):\n",
        "    model = model.eval()\n",
        "    total_correct = 0\n",
        "    total_samples = 0\n",
        "    all_preds = []\n",
        "    all_labels = []\n",
        "\n",
        "    with torch.no_grad():\n",
        "        for batch in data_loader:\n",
        "            input_ids = batch['input_ids'].to(device)\n",
        "            attention_mask = batch['attention_mask'].to(device)\n",
        "            labels = batch['labels'].to(device)\n",
        "\n",
        "            outputs = model(input_ids=input_ids, attention_mask=attention_mask)\n",
        "            logits = outputs.logits\n",
        "            _, preds = torch.max(logits, dim=1)\n",
        "\n",
        "            total_correct += torch.sum(preds == labels)\n",
        "            total_samples += labels.size(0)\n",
        "\n",
        "            all_preds.extend(preds.cpu().numpy())\n",
        "            all_labels.extend(labels.cpu().numpy())\n",
        "\n",
        "    accuracy = accuracy_score(all_labels, all_preds)\n",
        "    precision = precision_score(all_labels, all_preds, average='weighted')\n",
        "    recall = recall_score(all_labels, all_preds, average='weighted')\n",
        "    f1 = f1_score(all_labels, all_preds, average='weighted')\n",
        "\n",
        "    # Gera o classification report\n",
        "    class_report = classification_report(all_labels, all_preds, target_names=label_encoder.classes_)\n",
        "\n",
        "    return accuracy, precision, recall, f1, class_report, all_preds\n"
      ],
      "metadata": {
        "id": "1ZWBX39UNkmT"
      },
      "execution_count": null,
      "outputs": []
    },
    {
      "cell_type": "code",
      "source": [
        "# tokenizer e o modelo BERTimbau\n",
        "tokenizer = BertTokenizer.from_pretrained('neuralmind/bert-large-portuguese-cased')\n",
        "model = BertForSequenceClassification.from_pretrained('neuralmind/bert-large-portuguese-cased', num_labels=5)\n",
        "\n",
        "device = torch.device(\"cuda\" if torch.cuda.is_available() else \"cpu\")\n",
        "model = model.to(device)"
      ],
      "metadata": {
        "colab": {
          "base_uri": "https://localhost:8080/"
        },
        "id": "f02cPxdLNnBr",
        "outputId": "a1f315ef-ca79-4b77-9ba7-d1e5f7652eae"
      },
      "execution_count": null,
      "outputs": [
        {
          "output_type": "stream",
          "name": "stderr",
          "text": [
            "/usr/local/lib/python3.11/dist-packages/huggingface_hub/utils/_auth.py:94: UserWarning: \n",
            "The secret `HF_TOKEN` does not exist in your Colab secrets.\n",
            "To authenticate with the Hugging Face Hub, create a token in your settings tab (https://huggingface.co/settings/tokens), set it as secret in your Google Colab and restart your session.\n",
            "You will be able to reuse this secret in all of your notebooks.\n",
            "Please note that authentication is recommended but still optional to access public models or datasets.\n",
            "  warnings.warn(\n",
            "Some weights of BertForSequenceClassification were not initialized from the model checkpoint at neuralmind/bert-large-portuguese-cased and are newly initialized: ['classifier.bias', 'classifier.weight']\n",
            "You should probably TRAIN this model on a down-stream task to be able to use it for predictions and inference.\n"
          ]
        }
      ]
    },
    {
      "cell_type": "markdown",
      "source": [
        "Validação Cruzada Estratificada\n"
      ],
      "metadata": {
        "id": "GntoJSgbTOZF"
      }
    },
    {
      "cell_type": "code",
      "source": [
        "# Definir o número de folds para validação cruzada\n",
        "n_splits = 10 #10 é o mais comum, mas pode aumentar o número de folds desde que contenha no minimo 30 exemplos em cada fold, ex: 100 exemplos anotados, deve ter no maximo 3 folds / Deve-se saber tbm, que quanto maior o número de folds, maior o custo computacional\n",
        "skf = StratifiedKFold(n_splits=n_splits)"
      ],
      "metadata": {
        "id": "osIpHomON-fi"
      },
      "execution_count": null,
      "outputs": []
    },
    {
      "cell_type": "code",
      "source": [
        "# Otimizador\n",
        "optimizer = AdamW(model.parameters(), lr=1e-5)"
      ],
      "metadata": {
        "id": "6cV7HXZUPyoJ"
      },
      "execution_count": null,
      "outputs": []
    },
    {
      "cell_type": "code",
      "source": [
        "all_fold_metrics = {\n",
        "    'accuracy': [],\n",
        "    'precision': [],\n",
        "    'recall': [],\n",
        "    'f1': []\n",
        "}"
      ],
      "metadata": {
        "id": "aqXm98bxRAvY"
      },
      "execution_count": null,
      "outputs": []
    },
    {
      "cell_type": "code",
      "source": [
        "all_true_labels = []\n",
        "all_pred_labels = []"
      ],
      "metadata": {
        "id": "CeJa_Muh-yuB"
      },
      "execution_count": null,
      "outputs": []
    },
    {
      "cell_type": "markdown",
      "source": [
        "## Treinamento e Avaliação de Modelo com Validação Cruzada Estratificada e Balanceamento de Classes"
      ],
      "metadata": {
        "id": "o3i83UhAVCmU"
      }
    },
    {
      "cell_type": "code",
      "source": [
        "for fold, (train_index, test_index) in enumerate(skf.split(X, y)):\n",
        "    print(f\"Fold {fold+1}/{n_splits}\")\n",
        "\n",
        "    # Dividir os dados em treino e teste\n",
        "    X_train, X_test = X[train_index], X[test_index]\n",
        "    y_train, y_test = y[train_index], y[test_index]\n",
        "\n",
        "    # Balancear as classes no conjunto de treino\n",
        "    X_train_balanced, y_train_balanced = balance_classes(X_train, y_train)\n",
        "\n",
        "    # Criar datasets e dataloaders\n",
        "    train_dataset = TextDataset(X_train_balanced, y_train_balanced, tokenizer)\n",
        "    test_dataset = TextDataset(X_test, y_test, tokenizer)\n",
        "\n",
        "    train_loader = DataLoader(train_dataset, batch_size=16, shuffle=True)  # mini-batch de tamanho 16 e shuffle para pegar amostras aleatórias\n",
        "    test_loader = DataLoader(test_dataset, batch_size=16) # mini-batch de tamanho 16\n",
        "\n",
        "    # Treinar o modelo no fold atual\n",
        "    train_loss = train_model(model, train_loader, optimizer)\n",
        "    print(f\"Loss de treino no Fold {fold+1}: {train_loss}\") #quanto menor a loss em cada fold significa que o modelo está aprendendo\n",
        "\n",
        "    # Avaliar o modelo no fold atual\n",
        "    accuracy, precision, recall, f1, class_report, all_preds = evaluate_model(model, test_loader)\n",
        "    #print(f\"Acurácia no Fold {fold+1}: {accuracy}\")\n",
        "    #print(f\"Precisão no Fold {fold+1}: {precision}\")\n",
        "    #print(f\"Recall no Fold {fold+1}: {recall}\")\n",
        "    #print(f\"F1-score no Fold {fold+1}: {f1}\")\n",
        "    #print(f\"Classification Report no Fold {fold+1}:\\n{class_report}\")\n",
        "\n",
        "    # Armazenar métricas para cada fold\n",
        "    all_fold_metrics['accuracy'].append(accuracy)\n",
        "    all_fold_metrics['precision'].append(precision)\n",
        "    all_fold_metrics['recall'].append(recall)\n",
        "    all_fold_metrics['f1'].append(f1)\n",
        "\n",
        "    all_true_labels.extend(y_test)\n",
        "    all_pred_labels.extend(all_preds)\n",
        "\n",
        "# Cálculo das métricas finais (médias)\n",
        "final_accuracy = np.mean(all_fold_metrics['accuracy'])\n",
        "final_precision = np.mean(all_fold_metrics['precision'])\n",
        "final_recall = np.mean(all_fold_metrics['recall'])\n",
        "final_f1 = np.mean(all_fold_metrics['f1'])\n",
        "\n",
        "\n",
        "print(f\"\\nDesempenho Final:\")\n",
        "print(f\"Accuracy Média: {final_accuracy}\")\n",
        "print(f\"Precision Média: {final_precision}\")\n",
        "print(f\"Recall Médio: {final_recall}\")\n",
        "print(f\"F1-score Médio: {final_f1}\")\n",
        "\n",
        "# Geração do Classification Report geral\n",
        "final_class_report = classification_report(all_true_labels, all_pred_labels, target_names=label_encoder.classes_)\n",
        "print(\"\\nClassification Report:\")\n",
        "print(final_class_report)"
      ],
      "metadata": {
        "colab": {
          "base_uri": "https://localhost:8080/"
        },
        "id": "bttxIwXgP03Z",
        "outputId": "f28eaed5-e083-41d1-98d0-3dc10c9ba22d"
      },
      "execution_count": null,
      "outputs": [
        {
          "output_type": "stream",
          "name": "stdout",
          "text": [
            "Fold 1/10\n",
            "Loss de treino no Fold 1: 1.1073683233310778\n",
            "Fold 2/10\n",
            "Loss de treino no Fold 2: 0.5760200564335618\n",
            "Fold 3/10\n",
            "Loss de treino no Fold 3: 0.3685097669561704\n",
            "Fold 4/10\n",
            "Loss de treino no Fold 4: 0.2787858087362515\n",
            "Fold 5/10\n",
            "Loss de treino no Fold 5: 0.20367698235592493\n",
            "Fold 6/10\n",
            "Loss de treino no Fold 6: 0.14910688943281356\n",
            "Fold 7/10\n",
            "Loss de treino no Fold 7: 0.1328776816953905\n",
            "Fold 8/10\n",
            "Loss de treino no Fold 8: 0.11182666380449922\n",
            "Fold 9/10\n",
            "Loss de treino no Fold 9: 0.08223522872625229\n",
            "Fold 10/10\n",
            "Loss de treino no Fold 10: 0.07669267475850777\n",
            "\n",
            "Desempenho Final:\n",
            "Accuracy Média: 0.915\n",
            "Precision Média: 0.9194995034104341\n",
            "Recall Médio: 0.915\n",
            "F1-score Médio: 0.9136761386511371\n",
            "\n",
            "Classification Report:\n",
            "              precision    recall  f1-score   support\n",
            "\n",
            "   Aparência       0.92      0.93      0.93       378\n",
            "     Caráter       0.89      0.89      0.89       491\n",
            "      Emoção       0.92      0.96      0.94       258\n",
            "       Outro       0.89      0.84      0.86       362\n",
            "Papel Social       0.95      0.96      0.95       511\n",
            "\n",
            "    accuracy                           0.92      2000\n",
            "   macro avg       0.91      0.92      0.91      2000\n",
            "weighted avg       0.91      0.92      0.91      2000\n",
            "\n"
          ]
        }
      ]
    },
    {
      "cell_type": "code",
      "source": [
        "!mkdir model\n",
        "model.save_pretrained(\"./model\")\n",
        "tokenizer.save_pretrained(\"./model\")\n",
        "\n",
        "!zip -r /content/model.zip /content/model\n",
        "\n",
        "from google.colab import files\n",
        "files.download(\"/content/model.zip\")"
      ],
      "metadata": {
        "colab": {
          "base_uri": "https://localhost:8080/",
          "height": 125
        },
        "id": "HWUqBSpM3Hpb",
        "outputId": "a2b0419e-398f-4e30-9fd7-b010b6d00482"
      },
      "execution_count": null,
      "outputs": [
        {
          "output_type": "stream",
          "name": "stdout",
          "text": [
            "  adding: content/model/ (stored 0%)\n",
            "  adding: content/model/special_tokens_map.json (deflated 42%)\n",
            "  adding: content/model/tokenizer_config.json (deflated 74%)\n",
            "  adding: content/model/config.json (deflated 56%)\n",
            "  adding: content/model/model.safetensors (deflated 7%)\n",
            "  adding: content/model/vocab.txt (deflated 52%)\n"
          ]
        },
        {
          "output_type": "display_data",
          "data": {
            "text/plain": [
              "<IPython.core.display.Javascript object>"
            ],
            "application/javascript": [
              "\n",
              "    async function download(id, filename, size) {\n",
              "      if (!google.colab.kernel.accessAllowed) {\n",
              "        return;\n",
              "      }\n",
              "      const div = document.createElement('div');\n",
              "      const label = document.createElement('label');\n",
              "      label.textContent = `Downloading \"${filename}\": `;\n",
              "      div.appendChild(label);\n",
              "      const progress = document.createElement('progress');\n",
              "      progress.max = size;\n",
              "      div.appendChild(progress);\n",
              "      document.body.appendChild(div);\n",
              "\n",
              "      const buffers = [];\n",
              "      let downloaded = 0;\n",
              "\n",
              "      const channel = await google.colab.kernel.comms.open(id);\n",
              "      // Send a message to notify the kernel that we're ready.\n",
              "      channel.send({})\n",
              "\n",
              "      for await (const message of channel.messages) {\n",
              "        // Send a message to notify the kernel that we're ready.\n",
              "        channel.send({})\n",
              "        if (message.buffers) {\n",
              "          for (const buffer of message.buffers) {\n",
              "            buffers.push(buffer);\n",
              "            downloaded += buffer.byteLength;\n",
              "            progress.value = downloaded;\n",
              "          }\n",
              "        }\n",
              "      }\n",
              "      const blob = new Blob(buffers, {type: 'application/binary'});\n",
              "      const a = document.createElement('a');\n",
              "      a.href = window.URL.createObjectURL(blob);\n",
              "      a.download = filename;\n",
              "      div.appendChild(a);\n",
              "      a.click();\n",
              "      div.remove();\n",
              "    }\n",
              "  "
            ]
          },
          "metadata": {}
        },
        {
          "output_type": "display_data",
          "data": {
            "text/plain": [
              "<IPython.core.display.Javascript object>"
            ],
            "application/javascript": [
              "download(\"download_3e6c977f-9b5a-4208-893b-b17ec97908f0\", \"model.zip\", 1240735404)"
            ]
          },
          "metadata": {}
        }
      ]
    },
    {
      "cell_type": "markdown",
      "source": [
        "# Feminino"
      ],
      "metadata": {
        "id": "RuKURRR23tAJ"
      }
    },
    {
      "cell_type": "code",
      "source": [
        "from google.colab import drive\n",
        "drive.mount('/content/drive', force_remount=True)  # Remount with force_remount=True"
      ],
      "metadata": {
        "colab": {
          "base_uri": "https://localhost:8080/"
        },
        "id": "Sie8l9ML5YxA",
        "outputId": "5c2b3113-0f7a-42ba-94b2-1a586fab63cb"
      },
      "execution_count": null,
      "outputs": [
        {
          "output_type": "stream",
          "name": "stdout",
          "text": [
            "Mounted at /content/drive\n"
          ]
        }
      ]
    },
    {
      "cell_type": "code",
      "source": [
        "caminho_arquivo1 = '/content/drive/MyDrive/JIS/df sem duplicatas.csv'\n",
        "df1 = pd.read_csv(caminho_arquivo1)"
      ],
      "metadata": {
        "id": "Vg6F_ZV2320f"
      },
      "execution_count": null,
      "outputs": []
    },
    {
      "cell_type": "code",
      "source": [
        "df1.shape"
      ],
      "metadata": {
        "colab": {
          "base_uri": "https://localhost:8080/"
        },
        "id": "iIYDokN9AY45",
        "outputId": "034d86c8-1dc9-4e62-ac46-6fa6e23ce319"
      },
      "execution_count": null,
      "outputs": [
        {
          "output_type": "execute_result",
          "data": {
            "text/plain": [
              "(15223, 7)"
            ]
          },
          "metadata": {},
          "execution_count": 71
        }
      ]
    },
    {
      "cell_type": "code",
      "source": [
        "df1.head()"
      ],
      "metadata": {
        "colab": {
          "base_uri": "https://localhost:8080/",
          "height": 310
        },
        "id": "t6-V76Gi5wyb",
        "outputId": "2cc9ad2e-ae1b-43af-dab9-06acef2103fe"
      },
      "execution_count": null,
      "outputs": [
        {
          "output_type": "execute_result",
          "data": {
            "text/plain": [
              "                Padrão                Frase  \\\n",
              "0  sujeito_aux_adv_adj  ela é muito sensual   \n",
              "1          sujeito_adj          menina bela   \n",
              "2      pronoun+aux+adj     você é diferente   \n",
              "3      sujeito_aux_adj          ela é linda   \n",
              "4      sujeito_aux_adj      ela é guerreira   \n",
              "\n",
              "                                      Nome da Música            Artista  \\\n",
              "0                                           Carolina          Seu Jorge   \n",
              "1                                           Carolina          Seu Jorge   \n",
              "2  Tarde Vazia (feat. Samuel Rosa) - Versão Acústica               Ira!   \n",
              "3                                     Rodo cotidiano            O Rappa   \n",
              "4  Ela Vai Voltar (Todos Os Defeitos De Uma Mulhe...  Charlie Brown Jr.   \n",
              "\n",
              "  Gênero Musical                                    Letra da Música  \n",
              "0            MPB  Carolina é uma menina bem difícil de esquecer ...  \n",
              "1            MPB  Carolina é uma menina bem difícil de esquecer ...  \n",
              "2           Rock  Pela janela vejo fumaça, vejo pessoas Na rua o...  \n",
              "3           Rock  Ô ô ô ô ô my brother Ô ô ô ô ô my brother Ô ô ...  \n",
              "4           Rock  Minha mente, nem sempre tão lúcida É fértil e ...  "
            ],
            "text/html": [
              "\n",
              "  <div id=\"df-01cb315d-b09a-411f-ad2e-91fadf359ae0\" class=\"colab-df-container\">\n",
              "    <div>\n",
              "<style scoped>\n",
              "    .dataframe tbody tr th:only-of-type {\n",
              "        vertical-align: middle;\n",
              "    }\n",
              "\n",
              "    .dataframe tbody tr th {\n",
              "        vertical-align: top;\n",
              "    }\n",
              "\n",
              "    .dataframe thead th {\n",
              "        text-align: right;\n",
              "    }\n",
              "</style>\n",
              "<table border=\"1\" class=\"dataframe\">\n",
              "  <thead>\n",
              "    <tr style=\"text-align: right;\">\n",
              "      <th></th>\n",
              "      <th>Padrão</th>\n",
              "      <th>Frase</th>\n",
              "      <th>Nome da Música</th>\n",
              "      <th>Artista</th>\n",
              "      <th>Gênero Musical</th>\n",
              "      <th>Letra da Música</th>\n",
              "    </tr>\n",
              "  </thead>\n",
              "  <tbody>\n",
              "    <tr>\n",
              "      <th>0</th>\n",
              "      <td>sujeito_aux_adv_adj</td>\n",
              "      <td>ela é muito sensual</td>\n",
              "      <td>Carolina</td>\n",
              "      <td>Seu Jorge</td>\n",
              "      <td>MPB</td>\n",
              "      <td>Carolina é uma menina bem difícil de esquecer ...</td>\n",
              "    </tr>\n",
              "    <tr>\n",
              "      <th>1</th>\n",
              "      <td>sujeito_adj</td>\n",
              "      <td>menina bela</td>\n",
              "      <td>Carolina</td>\n",
              "      <td>Seu Jorge</td>\n",
              "      <td>MPB</td>\n",
              "      <td>Carolina é uma menina bem difícil de esquecer ...</td>\n",
              "    </tr>\n",
              "    <tr>\n",
              "      <th>2</th>\n",
              "      <td>pronoun+aux+adj</td>\n",
              "      <td>você é diferente</td>\n",
              "      <td>Tarde Vazia (feat. Samuel Rosa) - Versão Acústica</td>\n",
              "      <td>Ira!</td>\n",
              "      <td>Rock</td>\n",
              "      <td>Pela janela vejo fumaça, vejo pessoas Na rua o...</td>\n",
              "    </tr>\n",
              "    <tr>\n",
              "      <th>3</th>\n",
              "      <td>sujeito_aux_adj</td>\n",
              "      <td>ela é linda</td>\n",
              "      <td>Rodo cotidiano</td>\n",
              "      <td>O Rappa</td>\n",
              "      <td>Rock</td>\n",
              "      <td>Ô ô ô ô ô my brother Ô ô ô ô ô my brother Ô ô ...</td>\n",
              "    </tr>\n",
              "    <tr>\n",
              "      <th>4</th>\n",
              "      <td>sujeito_aux_adj</td>\n",
              "      <td>ela é guerreira</td>\n",
              "      <td>Ela Vai Voltar (Todos Os Defeitos De Uma Mulhe...</td>\n",
              "      <td>Charlie Brown Jr.</td>\n",
              "      <td>Rock</td>\n",
              "      <td>Minha mente, nem sempre tão lúcida É fértil e ...</td>\n",
              "    </tr>\n",
              "  </tbody>\n",
              "</table>\n",
              "</div>\n",
              "    <div class=\"colab-df-buttons\">\n",
              "\n",
              "  <div class=\"colab-df-container\">\n",
              "    <button class=\"colab-df-convert\" onclick=\"convertToInteractive('df-01cb315d-b09a-411f-ad2e-91fadf359ae0')\"\n",
              "            title=\"Convert this dataframe to an interactive table.\"\n",
              "            style=\"display:none;\">\n",
              "\n",
              "  <svg xmlns=\"http://www.w3.org/2000/svg\" height=\"24px\" viewBox=\"0 -960 960 960\">\n",
              "    <path d=\"M120-120v-720h720v720H120Zm60-500h600v-160H180v160Zm220 220h160v-160H400v160Zm0 220h160v-160H400v160ZM180-400h160v-160H180v160Zm440 0h160v-160H620v160ZM180-180h160v-160H180v160Zm440 0h160v-160H620v160Z\"/>\n",
              "  </svg>\n",
              "    </button>\n",
              "\n",
              "  <style>\n",
              "    .colab-df-container {\n",
              "      display:flex;\n",
              "      gap: 12px;\n",
              "    }\n",
              "\n",
              "    .colab-df-convert {\n",
              "      background-color: #E8F0FE;\n",
              "      border: none;\n",
              "      border-radius: 50%;\n",
              "      cursor: pointer;\n",
              "      display: none;\n",
              "      fill: #1967D2;\n",
              "      height: 32px;\n",
              "      padding: 0 0 0 0;\n",
              "      width: 32px;\n",
              "    }\n",
              "\n",
              "    .colab-df-convert:hover {\n",
              "      background-color: #E2EBFA;\n",
              "      box-shadow: 0px 1px 2px rgba(60, 64, 67, 0.3), 0px 1px 3px 1px rgba(60, 64, 67, 0.15);\n",
              "      fill: #174EA6;\n",
              "    }\n",
              "\n",
              "    .colab-df-buttons div {\n",
              "      margin-bottom: 4px;\n",
              "    }\n",
              "\n",
              "    [theme=dark] .colab-df-convert {\n",
              "      background-color: #3B4455;\n",
              "      fill: #D2E3FC;\n",
              "    }\n",
              "\n",
              "    [theme=dark] .colab-df-convert:hover {\n",
              "      background-color: #434B5C;\n",
              "      box-shadow: 0px 1px 3px 1px rgba(0, 0, 0, 0.15);\n",
              "      filter: drop-shadow(0px 1px 2px rgba(0, 0, 0, 0.3));\n",
              "      fill: #FFFFFF;\n",
              "    }\n",
              "  </style>\n",
              "\n",
              "    <script>\n",
              "      const buttonEl =\n",
              "        document.querySelector('#df-01cb315d-b09a-411f-ad2e-91fadf359ae0 button.colab-df-convert');\n",
              "      buttonEl.style.display =\n",
              "        google.colab.kernel.accessAllowed ? 'block' : 'none';\n",
              "\n",
              "      async function convertToInteractive(key) {\n",
              "        const element = document.querySelector('#df-01cb315d-b09a-411f-ad2e-91fadf359ae0');\n",
              "        const dataTable =\n",
              "          await google.colab.kernel.invokeFunction('convertToInteractive',\n",
              "                                                    [key], {});\n",
              "        if (!dataTable) return;\n",
              "\n",
              "        const docLinkHtml = 'Like what you see? Visit the ' +\n",
              "          '<a target=\"_blank\" href=https://colab.research.google.com/notebooks/data_table.ipynb>data table notebook</a>'\n",
              "          + ' to learn more about interactive tables.';\n",
              "        element.innerHTML = '';\n",
              "        dataTable['output_type'] = 'display_data';\n",
              "        await google.colab.output.renderOutput(dataTable, element);\n",
              "        const docLink = document.createElement('div');\n",
              "        docLink.innerHTML = docLinkHtml;\n",
              "        element.appendChild(docLink);\n",
              "      }\n",
              "    </script>\n",
              "  </div>\n",
              "\n",
              "\n",
              "<div id=\"df-930ff12b-e535-48d5-afb9-aa1f4af388c0\">\n",
              "  <button class=\"colab-df-quickchart\" onclick=\"quickchart('df-930ff12b-e535-48d5-afb9-aa1f4af388c0')\"\n",
              "            title=\"Suggest charts\"\n",
              "            style=\"display:none;\">\n",
              "\n",
              "<svg xmlns=\"http://www.w3.org/2000/svg\" height=\"24px\"viewBox=\"0 0 24 24\"\n",
              "     width=\"24px\">\n",
              "    <g>\n",
              "        <path d=\"M19 3H5c-1.1 0-2 .9-2 2v14c0 1.1.9 2 2 2h14c1.1 0 2-.9 2-2V5c0-1.1-.9-2-2-2zM9 17H7v-7h2v7zm4 0h-2V7h2v10zm4 0h-2v-4h2v4z\"/>\n",
              "    </g>\n",
              "</svg>\n",
              "  </button>\n",
              "\n",
              "<style>\n",
              "  .colab-df-quickchart {\n",
              "      --bg-color: #E8F0FE;\n",
              "      --fill-color: #1967D2;\n",
              "      --hover-bg-color: #E2EBFA;\n",
              "      --hover-fill-color: #174EA6;\n",
              "      --disabled-fill-color: #AAA;\n",
              "      --disabled-bg-color: #DDD;\n",
              "  }\n",
              "\n",
              "  [theme=dark] .colab-df-quickchart {\n",
              "      --bg-color: #3B4455;\n",
              "      --fill-color: #D2E3FC;\n",
              "      --hover-bg-color: #434B5C;\n",
              "      --hover-fill-color: #FFFFFF;\n",
              "      --disabled-bg-color: #3B4455;\n",
              "      --disabled-fill-color: #666;\n",
              "  }\n",
              "\n",
              "  .colab-df-quickchart {\n",
              "    background-color: var(--bg-color);\n",
              "    border: none;\n",
              "    border-radius: 50%;\n",
              "    cursor: pointer;\n",
              "    display: none;\n",
              "    fill: var(--fill-color);\n",
              "    height: 32px;\n",
              "    padding: 0;\n",
              "    width: 32px;\n",
              "  }\n",
              "\n",
              "  .colab-df-quickchart:hover {\n",
              "    background-color: var(--hover-bg-color);\n",
              "    box-shadow: 0 1px 2px rgba(60, 64, 67, 0.3), 0 1px 3px 1px rgba(60, 64, 67, 0.15);\n",
              "    fill: var(--button-hover-fill-color);\n",
              "  }\n",
              "\n",
              "  .colab-df-quickchart-complete:disabled,\n",
              "  .colab-df-quickchart-complete:disabled:hover {\n",
              "    background-color: var(--disabled-bg-color);\n",
              "    fill: var(--disabled-fill-color);\n",
              "    box-shadow: none;\n",
              "  }\n",
              "\n",
              "  .colab-df-spinner {\n",
              "    border: 2px solid var(--fill-color);\n",
              "    border-color: transparent;\n",
              "    border-bottom-color: var(--fill-color);\n",
              "    animation:\n",
              "      spin 1s steps(1) infinite;\n",
              "  }\n",
              "\n",
              "  @keyframes spin {\n",
              "    0% {\n",
              "      border-color: transparent;\n",
              "      border-bottom-color: var(--fill-color);\n",
              "      border-left-color: var(--fill-color);\n",
              "    }\n",
              "    20% {\n",
              "      border-color: transparent;\n",
              "      border-left-color: var(--fill-color);\n",
              "      border-top-color: var(--fill-color);\n",
              "    }\n",
              "    30% {\n",
              "      border-color: transparent;\n",
              "      border-left-color: var(--fill-color);\n",
              "      border-top-color: var(--fill-color);\n",
              "      border-right-color: var(--fill-color);\n",
              "    }\n",
              "    40% {\n",
              "      border-color: transparent;\n",
              "      border-right-color: var(--fill-color);\n",
              "      border-top-color: var(--fill-color);\n",
              "    }\n",
              "    60% {\n",
              "      border-color: transparent;\n",
              "      border-right-color: var(--fill-color);\n",
              "    }\n",
              "    80% {\n",
              "      border-color: transparent;\n",
              "      border-right-color: var(--fill-color);\n",
              "      border-bottom-color: var(--fill-color);\n",
              "    }\n",
              "    90% {\n",
              "      border-color: transparent;\n",
              "      border-bottom-color: var(--fill-color);\n",
              "    }\n",
              "  }\n",
              "</style>\n",
              "\n",
              "  <script>\n",
              "    async function quickchart(key) {\n",
              "      const quickchartButtonEl =\n",
              "        document.querySelector('#' + key + ' button');\n",
              "      quickchartButtonEl.disabled = true;  // To prevent multiple clicks.\n",
              "      quickchartButtonEl.classList.add('colab-df-spinner');\n",
              "      try {\n",
              "        const charts = await google.colab.kernel.invokeFunction(\n",
              "            'suggestCharts', [key], {});\n",
              "      } catch (error) {\n",
              "        console.error('Error during call to suggestCharts:', error);\n",
              "      }\n",
              "      quickchartButtonEl.classList.remove('colab-df-spinner');\n",
              "      quickchartButtonEl.classList.add('colab-df-quickchart-complete');\n",
              "    }\n",
              "    (() => {\n",
              "      let quickchartButtonEl =\n",
              "        document.querySelector('#df-930ff12b-e535-48d5-afb9-aa1f4af388c0 button');\n",
              "      quickchartButtonEl.style.display =\n",
              "        google.colab.kernel.accessAllowed ? 'block' : 'none';\n",
              "    })();\n",
              "  </script>\n",
              "</div>\n",
              "\n",
              "    </div>\n",
              "  </div>\n"
            ],
            "application/vnd.google.colaboratory.intrinsic+json": {
              "type": "dataframe",
              "variable_name": "df1",
              "summary": "{\n  \"name\": \"df1\",\n  \"rows\": 15223,\n  \"fields\": [\n    {\n      \"column\": \"Padr\\u00e3o\",\n      \"properties\": {\n        \"dtype\": \"category\",\n        \"num_unique_values\": 56,\n        \"samples\": [\n          \"sujeito_aux_adv_adj\",\n          \"sujeito_NOUN\",\n          \"nome_verb_adj\"\n        ],\n        \"semantic_type\": \"\",\n        \"description\": \"\"\n      }\n    },\n    {\n      \"column\": \"Frase\",\n      \"properties\": {\n        \"dtype\": \"category\",\n        \"num_unique_values\": 7487,\n        \"samples\": [\n          \"ela foi influenciada\",\n          \"ela \\u00e9 dif\\u00edcil\",\n          \"mina d'\\u00e1gua\"\n        ],\n        \"semantic_type\": \"\",\n        \"description\": \"\"\n      }\n    },\n    {\n      \"column\": \"Nome da M\\u00fasica\",\n      \"properties\": {\n        \"dtype\": \"string\",\n        \"num_unique_values\": 9776,\n        \"samples\": [\n          \"Filho do Diabo\",\n          \"Apita\",\n          \"Apague Meu Nome\"\n        ],\n        \"semantic_type\": \"\",\n        \"description\": \"\"\n      }\n    },\n    {\n      \"column\": \"Artista\",\n      \"properties\": {\n        \"dtype\": \"category\",\n        \"num_unique_values\": 1926,\n        \"samples\": [\n          \"Germano Mathias\",\n          \"My Bloody Valentine\",\n          \"G.R.E.S. Unidos do Viradouro\"\n        ],\n        \"semantic_type\": \"\",\n        \"description\": \"\"\n      }\n    },\n    {\n      \"column\": \"G\\u00eanero Musical\",\n      \"properties\": {\n        \"dtype\": \"category\",\n        \"num_unique_values\": 359,\n        \"samples\": [\n          \"Pop; Rom\\u00e2ntico\",\n          \"Black Music; Hip Hop; Rap\",\n          \"Rock Alternativo\"\n        ],\n        \"semantic_type\": \"\",\n        \"description\": \"\"\n      }\n    },\n    {\n      \"column\": \"Letra da M\\u00fasica\",\n      \"properties\": {\n        \"dtype\": \"string\",\n        \"num_unique_values\": 11467,\n        \"samples\": [\n          \"Mo\\u00e7a gorda era a Chica Const\\u00e2ncia\\nQuando ela casou, que trabalho estafante\\nPra vestir seu vestido de noiva\\nVeio a costureira e mais vinte ajudante\\nE trouxeram cem metros de faixa\\nPra ver se a danada formava a cintura\\nQuando a turma apertava no meio\\nPor todos os lados sa\\u00eda gordura\\nApertava por cima, sa\\u00eda por baixo\\nApertava por baixo, sa\\u00eda por cima\\nApertava por tr\\u00e1s, sa\\u00eda pra frente\\nApertava pra frente, sa\\u00eda pra tr\\u00e1s\\nE de tanto apertar a Const\\u00e2ncia\\nSaiu pelo z\\u00f3io os purm\\u00e3o da marvada\\nToda as tripa saiu pela boca\\nE a pobre da noiva morreu destripada\\nUm caix\\u00e3o com tr\\u00eas metro de fundo\\nE quatorze de boca foi encomendado\\nMesmo assim pra caber foi dif\\u00edcil\\nPois sa\\u00eda banha por todos os lado\\nApertava por cima, sa\\u00eda por baixo\\nApertava por baixo, sa\\u00eda por cima\\nApertava por tr\\u00e1s, sa\\u00eda pra frente\\nApertava pra frente, sa\\u00eda pra tr\\u00e1s\\n(\\u201cNossa m\\u00e3e!\\nTanta gordura junta e a banha desse pre\\u00e7o, gente! \\u201d)\\nPra levar ela pro cemit\\u00e9rio\\nVeio um trem de ferro com quatro vag\\u00e3o\\nO coveiro cavou por dez dia\\nPra abrir o buraco pra entrar o caix\\u00e3o\\nFoi preciso trazer um guindaste\\nPra ver se a Const\\u00e2ncia na cova descia\\nTodo mundo apertava sem d\\u00f3\\nMesmo assim no buraco o caix\\u00e3o n\\u00e3o cabia\\nApertava por cima, sa\\u00eda por baixo\\nApertava por baixo, sa\\u00eda por cima\\nApertava por tr\\u00e1s, sa\\u00eda pra frente\\nApertava pra frente, sa\\u00eda pra tr\\u00e1s\\nApertava por cima, sa\\u00eda por baixo\\nApertava por baixo, sa\\u00eda por cima\\nApertava por tr\\u00e1s, sa\\u00eda pra frente\\nApertava pra frente, sa\\u00eda pra tr\\u00e1s\\nMas apertava por cima, sa\\u00eda por baixo\\nApertava por baixo, sa\\u00eda por cima\\n(Pedro Paulo Mariano - Santa Maria da Serra-SP)\",\n          \"Gosto de andar a cavalo\\nN\\u00e3o gosto de andar a p\\u00e9\\nN\\u00e3o gosto nada da enxada\\nE gosto muito do caf\\u00e9\\n\\nGosto muito da viola\\nQuando encontro um bate-p\\u00e9\\nN\\u00e3o gosto do casamento\\nE sou louquinho por mui\\u00e9\\n\\nEu gosto da liberdade\\nEu n\\u00e3o gosto de cadeia\\nGosto de cant\\u00e1 o pagode\\nAonde nos apreceia\\n\\nGosto de mo\\u00e7a bonita\\nN\\u00e3o gosto de mui\\u00e9 feia\\nQuando eu canto o meu pagode\\nA muierada me arrodeia\\n\\nQuando eu entro nos fandango\\nEu canto com galanteio\\nGosto que as morena fale\\nVioleiro b\\u00e3o aqui veio\\n\\nNo meio dos campeonato\\nEu canto sem t\\u00ea receio\\nN\\u00e3o gosto que o povo fale\\nQue o nosso pagode \\u00e9 feio\\n\\nPagode gosto e n\\u00e3o gosto\\nPor n\\u00f3s dois foi inventado\\nGosto de escrev\\u00ea o pagode\\nNas hora que eu t\\u00f4 forgado\\n\\nPor esse Brasil inteiro\\nMeu pagode \\u00e9 comentado\\nEste pagode est\\u00e1 sendo\\nCampe\\u00e3o dos vinte e um estado\",\n          \"Nem \\u00e9 quest\\u00e3o de ser infiel, mas \\u00e9 que voc\\u00ea me tira o ch\\u00e3o. De cabe\\u00e7a eu vou do inferno ao c\\u00e9u, Enterrando mais uma rela\\u00e7\\u00e3o. Voc\\u00ea est\\u00e1 errada e eu mais ainda de n\\u00e3o dizer n\\u00e3o, Se \\u00e9 pecado a gente se confessa amanh\\u00e3 de manh\\u00e3. Sempre acaba aqui, n\\u00e9? Na sua cama, pois \\u00e9! At\\u00e9 parece que no fundo eu boto f\\u00e9! Daria um casalz\\u00e3o, prazer com emo\\u00e7\\u00e3o! O foda \\u00e9 que fora da cama quem manda \\u00e9 a raz\\u00e3o. Daria um casalz\\u00e3o, prazer com emo\\u00e7\\u00e3o! Que pena que falta coragem e a gente \\u00e9 covarde. Mas daria um casalz\\u00e3o, prazer com emo\\u00e7\\u00e3o, O foda \\u00e9 que fora da cama quem manda \\u00e9 a raz\\u00e3o! Daria um casalz\\u00e3o, prazer com emo\\u00e7\\u00e3o! Que pena que falta coragem e a gente \\u00e9 covarde! Mas daria um casalz\\u00e3o, Oh, Oh, Oh Oh, Oh, Oh Mas daria um casalz\\u00e3o Oh, Oh, Oh Mas daria um casalz\\u00e3o\"\n        ],\n        \"semantic_type\": \"\",\n        \"description\": \"\"\n      }\n    }\n  ]\n}"
            }
          },
          "metadata": {},
          "execution_count": 43
        }
      ]
    },
    {
      "cell_type": "code",
      "source": [
        "sentencas = df1['Frase'].tolist()"
      ],
      "metadata": {
        "id": "i_kVdJP950Vh"
      },
      "execution_count": null,
      "outputs": []
    },
    {
      "cell_type": "code",
      "source": [
        "batch_size = 16\n",
        "predicoes_finais = []\n",
        "model = model.to(device)\n",
        "model.eval()"
      ],
      "metadata": {
        "colab": {
          "base_uri": "https://localhost:8080/"
        },
        "id": "OT1xsnh352bm",
        "outputId": "6a079986-493a-4dde-9766-3a52f73eeaee"
      },
      "execution_count": null,
      "outputs": [
        {
          "output_type": "execute_result",
          "data": {
            "text/plain": [
              "BertForSequenceClassification(\n",
              "  (bert): BertModel(\n",
              "    (embeddings): BertEmbeddings(\n",
              "      (word_embeddings): Embedding(29794, 1024, padding_idx=0)\n",
              "      (position_embeddings): Embedding(512, 1024)\n",
              "      (token_type_embeddings): Embedding(2, 1024)\n",
              "      (LayerNorm): LayerNorm((1024,), eps=1e-12, elementwise_affine=True)\n",
              "      (dropout): Dropout(p=0.1, inplace=False)\n",
              "    )\n",
              "    (encoder): BertEncoder(\n",
              "      (layer): ModuleList(\n",
              "        (0-23): 24 x BertLayer(\n",
              "          (attention): BertAttention(\n",
              "            (self): BertSdpaSelfAttention(\n",
              "              (query): Linear(in_features=1024, out_features=1024, bias=True)\n",
              "              (key): Linear(in_features=1024, out_features=1024, bias=True)\n",
              "              (value): Linear(in_features=1024, out_features=1024, bias=True)\n",
              "              (dropout): Dropout(p=0.1, inplace=False)\n",
              "            )\n",
              "            (output): BertSelfOutput(\n",
              "              (dense): Linear(in_features=1024, out_features=1024, bias=True)\n",
              "              (LayerNorm): LayerNorm((1024,), eps=1e-12, elementwise_affine=True)\n",
              "              (dropout): Dropout(p=0.1, inplace=False)\n",
              "            )\n",
              "          )\n",
              "          (intermediate): BertIntermediate(\n",
              "            (dense): Linear(in_features=1024, out_features=4096, bias=True)\n",
              "            (intermediate_act_fn): GELUActivation()\n",
              "          )\n",
              "          (output): BertOutput(\n",
              "            (dense): Linear(in_features=4096, out_features=1024, bias=True)\n",
              "            (LayerNorm): LayerNorm((1024,), eps=1e-12, elementwise_affine=True)\n",
              "            (dropout): Dropout(p=0.1, inplace=False)\n",
              "          )\n",
              "        )\n",
              "      )\n",
              "    )\n",
              "    (pooler): BertPooler(\n",
              "      (dense): Linear(in_features=1024, out_features=1024, bias=True)\n",
              "      (activation): Tanh()\n",
              "    )\n",
              "  )\n",
              "  (dropout): Dropout(p=0.1, inplace=False)\n",
              "  (classifier): Linear(in_features=1024, out_features=5, bias=True)\n",
              ")"
            ]
          },
          "metadata": {},
          "execution_count": 45
        }
      ]
    },
    {
      "cell_type": "code",
      "source": [
        "# mini batch\n",
        "for i in range(0, len(sentencas), batch_size):\n",
        "    sentencas_lote = sentencas[i:i+batch_size]\n",
        "\n",
        "    tokens = tokenizer(\n",
        "        sentencas_lote,\n",
        "        padding=True,\n",
        "        truncation=True,\n",
        "        max_length=128,  # Mesmo max_length usado no treino\n",
        "        return_tensors=\"pt\"\n",
        "    )\n",
        "\n",
        "    tokens = {key: val.to(device) for key, val in tokens.items()}\n",
        "\n",
        "    with torch.no_grad():\n",
        "        outputs = model(**tokens)\n",
        "\n",
        "    # Obter as previsões (softmax -> argmax para pegar a classe mais provável)\n",
        "    pred_classes = torch.argmax(outputs.logits, dim=1).cpu().numpy()  # Mover para a CPU pq tava dando estouro de GPU\n",
        "\n",
        "    predicoes_finais.extend(pred_classes)"
      ],
      "metadata": {
        "id": "lf-q6zc955K-"
      },
      "execution_count": null,
      "outputs": []
    },
    {
      "cell_type": "code",
      "source": [
        "df1['Categoria'] = predicoes_finais\n",
        "\n",
        "df1['Categoria'] = df1['Categoria'].map({0: 'Aparência', 1: 'Caráter', 2: 'Emoção', 3: 'Outro', 4: 'Papel Social'}) #{'Aparência': 0, 'Caráter': 1, 'Emoção': 2, 'Outro': 3, 'Papel Social': 4}\n"
      ],
      "metadata": {
        "id": "0N9_S_5U58O3"
      },
      "execution_count": null,
      "outputs": []
    },
    {
      "cell_type": "code",
      "source": [
        "from google.colab import files\n",
        "\n",
        "df1.to_csv('df1_com_previsoes.csv', index=False)\n",
        "files.download('df1_com_previsoes.csv')"
      ],
      "metadata": {
        "colab": {
          "base_uri": "https://localhost:8080/",
          "height": 17
        },
        "id": "OkVnyxao6Q0-",
        "outputId": "6a9ef8d8-e8d8-4f30-8a06-37a0e216facb"
      },
      "execution_count": null,
      "outputs": [
        {
          "output_type": "display_data",
          "data": {
            "text/plain": [
              "<IPython.core.display.Javascript object>"
            ],
            "application/javascript": [
              "\n",
              "    async function download(id, filename, size) {\n",
              "      if (!google.colab.kernel.accessAllowed) {\n",
              "        return;\n",
              "      }\n",
              "      const div = document.createElement('div');\n",
              "      const label = document.createElement('label');\n",
              "      label.textContent = `Downloading \"${filename}\": `;\n",
              "      div.appendChild(label);\n",
              "      const progress = document.createElement('progress');\n",
              "      progress.max = size;\n",
              "      div.appendChild(progress);\n",
              "      document.body.appendChild(div);\n",
              "\n",
              "      const buffers = [];\n",
              "      let downloaded = 0;\n",
              "\n",
              "      const channel = await google.colab.kernel.comms.open(id);\n",
              "      // Send a message to notify the kernel that we're ready.\n",
              "      channel.send({})\n",
              "\n",
              "      for await (const message of channel.messages) {\n",
              "        // Send a message to notify the kernel that we're ready.\n",
              "        channel.send({})\n",
              "        if (message.buffers) {\n",
              "          for (const buffer of message.buffers) {\n",
              "            buffers.push(buffer);\n",
              "            downloaded += buffer.byteLength;\n",
              "            progress.value = downloaded;\n",
              "          }\n",
              "        }\n",
              "      }\n",
              "      const blob = new Blob(buffers, {type: 'application/binary'});\n",
              "      const a = document.createElement('a');\n",
              "      a.href = window.URL.createObjectURL(blob);\n",
              "      a.download = filename;\n",
              "      div.appendChild(a);\n",
              "      a.click();\n",
              "      div.remove();\n",
              "    }\n",
              "  "
            ]
          },
          "metadata": {}
        },
        {
          "output_type": "display_data",
          "data": {
            "text/plain": [
              "<IPython.core.display.Javascript object>"
            ],
            "application/javascript": [
              "download(\"download_eb2b78c8-8f40-4f01-bee6-0020d003a93f\", \"df1_com_previsoes.csv\", 20886647)"
            ]
          },
          "metadata": {}
        }
      ]
    },
    {
      "cell_type": "code",
      "source": [
        "categoria_counts_df1 = df1['Categoria'].value_counts()\n",
        "print(categoria_counts_df1)"
      ],
      "metadata": {
        "colab": {
          "base_uri": "https://localhost:8080/"
        },
        "id": "RBQv04Ow6TDo",
        "outputId": "7c32469f-5dda-40d8-caaa-6f2f5cc71c36"
      },
      "execution_count": null,
      "outputs": [
        {
          "output_type": "stream",
          "name": "stdout",
          "text": [
            "Categoria\n",
            "Outro           4343\n",
            "Aparência       4175\n",
            "Caráter         3223\n",
            "Papel Social    2550\n",
            "Emoção           932\n",
            "Name: count, dtype: int64\n"
          ]
        }
      ]
    },
    {
      "cell_type": "markdown",
      "source": [
        "# Masculino"
      ],
      "metadata": {
        "id": "kvZVZviQ3xlJ"
      }
    },
    {
      "cell_type": "code",
      "source": [
        "caminho_arquivo2 = '/content/drive/MyDrive/JIS/df masculino sem duplicata.csv'\n",
        "df2 = pd.read_csv(caminho_arquivo2)"
      ],
      "metadata": {
        "id": "dik33XIg3vip"
      },
      "execution_count": null,
      "outputs": []
    },
    {
      "cell_type": "code",
      "source": [
        "df2.shape"
      ],
      "metadata": {
        "colab": {
          "base_uri": "https://localhost:8080/"
        },
        "id": "XtcyAvTWAigO",
        "outputId": "8a0c4be6-ea5f-4ec6-89a7-25764365d037"
      },
      "execution_count": null,
      "outputs": [
        {
          "output_type": "execute_result",
          "data": {
            "text/plain": [
              "(15081, 7)"
            ]
          },
          "metadata": {},
          "execution_count": 72
        }
      ]
    },
    {
      "cell_type": "code",
      "source": [
        "df2.head()"
      ],
      "metadata": {
        "colab": {
          "base_uri": "https://localhost:8080/",
          "height": 292
        },
        "id": "tZVc03lA63hs",
        "outputId": "aaa5972d-dd95-45b5-bbd8-6e769cf2f9ed"
      },
      "execution_count": null,
      "outputs": [
        {
          "output_type": "execute_result",
          "data": {
            "text/plain": [
              "                             Padrão           Frase         Nome da Música  \\\n",
              "0                         nome_NOUN        caro pai           Lugar Ao Sol   \n",
              "1  pronoun_aposto_adjetivo_noun_det     você, o mar  Eu, Você, O Mar e Ela   \n",
              "2                     nome_aux_NOUN   cês são padre                  Balão   \n",
              "3                         nome_NOUN     meto marcha         Deus é por nós   \n",
              "4                      sujeito_NOUN  namorado ficar   Meu Pedaço de Pecado   \n",
              "\n",
              "             Artista Gênero Musical  \\\n",
              "0  Charlie Brown Jr.           Rock   \n",
              "1       Luan Santana      Sertanejo   \n",
              "2             Orochi           Trap   \n",
              "3           MC Marks           Funk   \n",
              "4         João Gomes          Forró   \n",
              "\n",
              "                                     Letra da Música  \n",
              "0  Que bom viver, como é bom sonhar E o que ficou...  \n",
              "1  Ser romântico às vezes ajuda Mas se fecho os o...  \n",
              "2  Dallass, yo Bom dia pra você e pra todos que e...  \n",
              "3  (Ai, ai, ai, ai, ai) (Ai, ai, ai, ai, ai) (É o...  \n",
              "4  Meu pedaço de pecado De corpo colado Vem dança...  "
            ],
            "text/html": [
              "\n",
              "  <div id=\"df-29efa55b-0005-4a92-9e5b-9ac855f44272\" class=\"colab-df-container\">\n",
              "    <div>\n",
              "<style scoped>\n",
              "    .dataframe tbody tr th:only-of-type {\n",
              "        vertical-align: middle;\n",
              "    }\n",
              "\n",
              "    .dataframe tbody tr th {\n",
              "        vertical-align: top;\n",
              "    }\n",
              "\n",
              "    .dataframe thead th {\n",
              "        text-align: right;\n",
              "    }\n",
              "</style>\n",
              "<table border=\"1\" class=\"dataframe\">\n",
              "  <thead>\n",
              "    <tr style=\"text-align: right;\">\n",
              "      <th></th>\n",
              "      <th>Padrão</th>\n",
              "      <th>Frase</th>\n",
              "      <th>Nome da Música</th>\n",
              "      <th>Artista</th>\n",
              "      <th>Gênero Musical</th>\n",
              "      <th>Letra da Música</th>\n",
              "    </tr>\n",
              "  </thead>\n",
              "  <tbody>\n",
              "    <tr>\n",
              "      <th>0</th>\n",
              "      <td>nome_NOUN</td>\n",
              "      <td>caro pai</td>\n",
              "      <td>Lugar Ao Sol</td>\n",
              "      <td>Charlie Brown Jr.</td>\n",
              "      <td>Rock</td>\n",
              "      <td>Que bom viver, como é bom sonhar E o que ficou...</td>\n",
              "    </tr>\n",
              "    <tr>\n",
              "      <th>1</th>\n",
              "      <td>pronoun_aposto_adjetivo_noun_det</td>\n",
              "      <td>você, o mar</td>\n",
              "      <td>Eu, Você, O Mar e Ela</td>\n",
              "      <td>Luan Santana</td>\n",
              "      <td>Sertanejo</td>\n",
              "      <td>Ser romântico às vezes ajuda Mas se fecho os o...</td>\n",
              "    </tr>\n",
              "    <tr>\n",
              "      <th>2</th>\n",
              "      <td>nome_aux_NOUN</td>\n",
              "      <td>cês são padre</td>\n",
              "      <td>Balão</td>\n",
              "      <td>Orochi</td>\n",
              "      <td>Trap</td>\n",
              "      <td>Dallass, yo Bom dia pra você e pra todos que e...</td>\n",
              "    </tr>\n",
              "    <tr>\n",
              "      <th>3</th>\n",
              "      <td>nome_NOUN</td>\n",
              "      <td>meto marcha</td>\n",
              "      <td>Deus é por nós</td>\n",
              "      <td>MC Marks</td>\n",
              "      <td>Funk</td>\n",
              "      <td>(Ai, ai, ai, ai, ai) (Ai, ai, ai, ai, ai) (É o...</td>\n",
              "    </tr>\n",
              "    <tr>\n",
              "      <th>4</th>\n",
              "      <td>sujeito_NOUN</td>\n",
              "      <td>namorado ficar</td>\n",
              "      <td>Meu Pedaço de Pecado</td>\n",
              "      <td>João Gomes</td>\n",
              "      <td>Forró</td>\n",
              "      <td>Meu pedaço de pecado De corpo colado Vem dança...</td>\n",
              "    </tr>\n",
              "  </tbody>\n",
              "</table>\n",
              "</div>\n",
              "    <div class=\"colab-df-buttons\">\n",
              "\n",
              "  <div class=\"colab-df-container\">\n",
              "    <button class=\"colab-df-convert\" onclick=\"convertToInteractive('df-29efa55b-0005-4a92-9e5b-9ac855f44272')\"\n",
              "            title=\"Convert this dataframe to an interactive table.\"\n",
              "            style=\"display:none;\">\n",
              "\n",
              "  <svg xmlns=\"http://www.w3.org/2000/svg\" height=\"24px\" viewBox=\"0 -960 960 960\">\n",
              "    <path d=\"M120-120v-720h720v720H120Zm60-500h600v-160H180v160Zm220 220h160v-160H400v160Zm0 220h160v-160H400v160ZM180-400h160v-160H180v160Zm440 0h160v-160H620v160ZM180-180h160v-160H180v160Zm440 0h160v-160H620v160Z\"/>\n",
              "  </svg>\n",
              "    </button>\n",
              "\n",
              "  <style>\n",
              "    .colab-df-container {\n",
              "      display:flex;\n",
              "      gap: 12px;\n",
              "    }\n",
              "\n",
              "    .colab-df-convert {\n",
              "      background-color: #E8F0FE;\n",
              "      border: none;\n",
              "      border-radius: 50%;\n",
              "      cursor: pointer;\n",
              "      display: none;\n",
              "      fill: #1967D2;\n",
              "      height: 32px;\n",
              "      padding: 0 0 0 0;\n",
              "      width: 32px;\n",
              "    }\n",
              "\n",
              "    .colab-df-convert:hover {\n",
              "      background-color: #E2EBFA;\n",
              "      box-shadow: 0px 1px 2px rgba(60, 64, 67, 0.3), 0px 1px 3px 1px rgba(60, 64, 67, 0.15);\n",
              "      fill: #174EA6;\n",
              "    }\n",
              "\n",
              "    .colab-df-buttons div {\n",
              "      margin-bottom: 4px;\n",
              "    }\n",
              "\n",
              "    [theme=dark] .colab-df-convert {\n",
              "      background-color: #3B4455;\n",
              "      fill: #D2E3FC;\n",
              "    }\n",
              "\n",
              "    [theme=dark] .colab-df-convert:hover {\n",
              "      background-color: #434B5C;\n",
              "      box-shadow: 0px 1px 3px 1px rgba(0, 0, 0, 0.15);\n",
              "      filter: drop-shadow(0px 1px 2px rgba(0, 0, 0, 0.3));\n",
              "      fill: #FFFFFF;\n",
              "    }\n",
              "  </style>\n",
              "\n",
              "    <script>\n",
              "      const buttonEl =\n",
              "        document.querySelector('#df-29efa55b-0005-4a92-9e5b-9ac855f44272 button.colab-df-convert');\n",
              "      buttonEl.style.display =\n",
              "        google.colab.kernel.accessAllowed ? 'block' : 'none';\n",
              "\n",
              "      async function convertToInteractive(key) {\n",
              "        const element = document.querySelector('#df-29efa55b-0005-4a92-9e5b-9ac855f44272');\n",
              "        const dataTable =\n",
              "          await google.colab.kernel.invokeFunction('convertToInteractive',\n",
              "                                                    [key], {});\n",
              "        if (!dataTable) return;\n",
              "\n",
              "        const docLinkHtml = 'Like what you see? Visit the ' +\n",
              "          '<a target=\"_blank\" href=https://colab.research.google.com/notebooks/data_table.ipynb>data table notebook</a>'\n",
              "          + ' to learn more about interactive tables.';\n",
              "        element.innerHTML = '';\n",
              "        dataTable['output_type'] = 'display_data';\n",
              "        await google.colab.output.renderOutput(dataTable, element);\n",
              "        const docLink = document.createElement('div');\n",
              "        docLink.innerHTML = docLinkHtml;\n",
              "        element.appendChild(docLink);\n",
              "      }\n",
              "    </script>\n",
              "  </div>\n",
              "\n",
              "\n",
              "<div id=\"df-4eb5702c-e6d0-4412-ac0e-fa9d4132a3d9\">\n",
              "  <button class=\"colab-df-quickchart\" onclick=\"quickchart('df-4eb5702c-e6d0-4412-ac0e-fa9d4132a3d9')\"\n",
              "            title=\"Suggest charts\"\n",
              "            style=\"display:none;\">\n",
              "\n",
              "<svg xmlns=\"http://www.w3.org/2000/svg\" height=\"24px\"viewBox=\"0 0 24 24\"\n",
              "     width=\"24px\">\n",
              "    <g>\n",
              "        <path d=\"M19 3H5c-1.1 0-2 .9-2 2v14c0 1.1.9 2 2 2h14c1.1 0 2-.9 2-2V5c0-1.1-.9-2-2-2zM9 17H7v-7h2v7zm4 0h-2V7h2v10zm4 0h-2v-4h2v4z\"/>\n",
              "    </g>\n",
              "</svg>\n",
              "  </button>\n",
              "\n",
              "<style>\n",
              "  .colab-df-quickchart {\n",
              "      --bg-color: #E8F0FE;\n",
              "      --fill-color: #1967D2;\n",
              "      --hover-bg-color: #E2EBFA;\n",
              "      --hover-fill-color: #174EA6;\n",
              "      --disabled-fill-color: #AAA;\n",
              "      --disabled-bg-color: #DDD;\n",
              "  }\n",
              "\n",
              "  [theme=dark] .colab-df-quickchart {\n",
              "      --bg-color: #3B4455;\n",
              "      --fill-color: #D2E3FC;\n",
              "      --hover-bg-color: #434B5C;\n",
              "      --hover-fill-color: #FFFFFF;\n",
              "      --disabled-bg-color: #3B4455;\n",
              "      --disabled-fill-color: #666;\n",
              "  }\n",
              "\n",
              "  .colab-df-quickchart {\n",
              "    background-color: var(--bg-color);\n",
              "    border: none;\n",
              "    border-radius: 50%;\n",
              "    cursor: pointer;\n",
              "    display: none;\n",
              "    fill: var(--fill-color);\n",
              "    height: 32px;\n",
              "    padding: 0;\n",
              "    width: 32px;\n",
              "  }\n",
              "\n",
              "  .colab-df-quickchart:hover {\n",
              "    background-color: var(--hover-bg-color);\n",
              "    box-shadow: 0 1px 2px rgba(60, 64, 67, 0.3), 0 1px 3px 1px rgba(60, 64, 67, 0.15);\n",
              "    fill: var(--button-hover-fill-color);\n",
              "  }\n",
              "\n",
              "  .colab-df-quickchart-complete:disabled,\n",
              "  .colab-df-quickchart-complete:disabled:hover {\n",
              "    background-color: var(--disabled-bg-color);\n",
              "    fill: var(--disabled-fill-color);\n",
              "    box-shadow: none;\n",
              "  }\n",
              "\n",
              "  .colab-df-spinner {\n",
              "    border: 2px solid var(--fill-color);\n",
              "    border-color: transparent;\n",
              "    border-bottom-color: var(--fill-color);\n",
              "    animation:\n",
              "      spin 1s steps(1) infinite;\n",
              "  }\n",
              "\n",
              "  @keyframes spin {\n",
              "    0% {\n",
              "      border-color: transparent;\n",
              "      border-bottom-color: var(--fill-color);\n",
              "      border-left-color: var(--fill-color);\n",
              "    }\n",
              "    20% {\n",
              "      border-color: transparent;\n",
              "      border-left-color: var(--fill-color);\n",
              "      border-top-color: var(--fill-color);\n",
              "    }\n",
              "    30% {\n",
              "      border-color: transparent;\n",
              "      border-left-color: var(--fill-color);\n",
              "      border-top-color: var(--fill-color);\n",
              "      border-right-color: var(--fill-color);\n",
              "    }\n",
              "    40% {\n",
              "      border-color: transparent;\n",
              "      border-right-color: var(--fill-color);\n",
              "      border-top-color: var(--fill-color);\n",
              "    }\n",
              "    60% {\n",
              "      border-color: transparent;\n",
              "      border-right-color: var(--fill-color);\n",
              "    }\n",
              "    80% {\n",
              "      border-color: transparent;\n",
              "      border-right-color: var(--fill-color);\n",
              "      border-bottom-color: var(--fill-color);\n",
              "    }\n",
              "    90% {\n",
              "      border-color: transparent;\n",
              "      border-bottom-color: var(--fill-color);\n",
              "    }\n",
              "  }\n",
              "</style>\n",
              "\n",
              "  <script>\n",
              "    async function quickchart(key) {\n",
              "      const quickchartButtonEl =\n",
              "        document.querySelector('#' + key + ' button');\n",
              "      quickchartButtonEl.disabled = true;  // To prevent multiple clicks.\n",
              "      quickchartButtonEl.classList.add('colab-df-spinner');\n",
              "      try {\n",
              "        const charts = await google.colab.kernel.invokeFunction(\n",
              "            'suggestCharts', [key], {});\n",
              "      } catch (error) {\n",
              "        console.error('Error during call to suggestCharts:', error);\n",
              "      }\n",
              "      quickchartButtonEl.classList.remove('colab-df-spinner');\n",
              "      quickchartButtonEl.classList.add('colab-df-quickchart-complete');\n",
              "    }\n",
              "    (() => {\n",
              "      let quickchartButtonEl =\n",
              "        document.querySelector('#df-4eb5702c-e6d0-4412-ac0e-fa9d4132a3d9 button');\n",
              "      quickchartButtonEl.style.display =\n",
              "        google.colab.kernel.accessAllowed ? 'block' : 'none';\n",
              "    })();\n",
              "  </script>\n",
              "</div>\n",
              "\n",
              "    </div>\n",
              "  </div>\n"
            ],
            "application/vnd.google.colaboratory.intrinsic+json": {
              "type": "dataframe",
              "variable_name": "df2",
              "summary": "{\n  \"name\": \"df2\",\n  \"rows\": 15081,\n  \"fields\": [\n    {\n      \"column\": \"Padr\\u00e3o\",\n      \"properties\": {\n        \"dtype\": \"category\",\n        \"num_unique_values\": 64,\n        \"samples\": [\n          \"nome_aux_verb_adj\",\n          \"sujeito_aux_adv_verb\",\n          \"nome_NOUN\"\n        ],\n        \"semantic_type\": \"\",\n        \"description\": \"\"\n      }\n    },\n    {\n      \"column\": \"Frase\",\n      \"properties\": {\n        \"dtype\": \"string\",\n        \"num_unique_values\": 9164,\n        \"samples\": [\n          \"batte forte\",\n          \"rei triste\",\n          \"menino vivo\"\n        ],\n        \"semantic_type\": \"\",\n        \"description\": \"\"\n      }\n    },\n    {\n      \"column\": \"Nome da M\\u00fasica\",\n      \"properties\": {\n        \"dtype\": \"string\",\n        \"num_unique_values\": 10803,\n        \"samples\": [\n          \"Volta Vem Me Ver\",\n          \"Abc e Brincadeiras\",\n          \"Sentido do Natal\"\n        ],\n        \"semantic_type\": \"\",\n        \"description\": \"\"\n      }\n    },\n    {\n      \"column\": \"Artista\",\n      \"properties\": {\n        \"dtype\": \"category\",\n        \"num_unique_values\": 1979,\n        \"samples\": [\n          \"Ma\\u00edda e Marcelo\",\n          \"Gal Costa\",\n          \"Armando Luis - Sapinho\"\n        ],\n        \"semantic_type\": \"\",\n        \"description\": \"\"\n      }\n    },\n    {\n      \"column\": \"G\\u00eanero Musical\",\n      \"properties\": {\n        \"dtype\": \"category\",\n        \"num_unique_values\": 376,\n        \"samples\": [\n          \"Regional; Rom\\u00e2ntico\",\n          \"Trilha Sonora; Infantil; Jazz\",\n          \"Rap; Hip Hop; Funk\"\n        ],\n        \"semantic_type\": \"\",\n        \"description\": \"\"\n      }\n    },\n    {\n      \"column\": \"Letra da M\\u00fasica\",\n      \"properties\": {\n        \"dtype\": \"string\",\n        \"num_unique_values\": 12254,\n        \"samples\": [\n          \"O que sinto por voc\\u00ea\\nN\\u00e3o d\\u00e1 pra descrever\\nEm apenas um idioma\\nN\\u00e3o conseguirei dizer\\n\\nEu te amo demais\\nVoc\\u00ea trouxe minha paz\\n\\u00c9 a mulher perfeita\\nQue eu tanto sonhei amar\\n\\nI love you (Ingl\\u00eas)\\nMon amour (Franc\\u00eas)\\nMi guapa (Espanhol)\\nItoshi teru (Japon\\u00eas)\\n\\nW\\u01d2 \\u00e0i n\\u01d0 (Chin\\u00eas)\\nTedu\\u00e1 (Alban\\u00eas)\\nJamilati (\\u00c1rabe)\\nMoya prekrasna (Ucraniano)\\n\\nEstou apaixonado\\n\\u00c9 t\\u00e3o dif\\u00edcil suportar\\nTodo este meu afeto\\nEnt\\u00e3o irei extravasar\\n\\nMorena cacheada\\nT\\u00e3o bela pra mim\\nMuito linda\\nTe amarei at\\u00e9 o fim\\n\\nI love you (Ingl\\u00eas)\\nMon amour (Franc\\u00eas)\\nMi guapa (Espanhol)\\nItoshi teru (Japon\\u00eas)\\n\\nW\\u01d2 \\u00e0i n\\u01d0 (Chin\\u00eas)\\nTedu\\u00e1 (Alban\\u00eas)\\nJamilati (\\u00c1rabe)\\nMoya prekrasna (Ucraniano)\",\n          \"  Pobre samba meu Foi se misturando se modernizando, e se perdeu E o rebolado cad\\u00ea?, n\\u00e3o tem mais Cad\\u00ea o tal gingado que mexe com a gente Coitado do meu samba mudou de repente Influ\\u00eancia do jazz Quase que morreu E acaba morrendo, est\\u00e1 quase morrendo, n\\u00e3o percebeu Que o samba balan\\u00e7a de um lado pro outro O jazz \\u00e9 diferente, pra frente pra tr\\u00e1s E o samba meio morto ficou meio torto Influ\\u00eancia do jazz No afro-cubano, vai complicando Vai pelo cano, vai Vai entortando, vai sem descanso Vai, sai, cai... no balan\\u00e7o! Pobre samba meu Volta l\\u00e1 pro morro e pede socorro onde nasceu Pra n\\u00e3o ser um samba com notas demais N\\u00e3o ser um samba torto pra frente pra tr\\u00e1s Vai ter que se virar pra poder se livrar Da influ\\u00eancia do jazz  \",\n          \"Sou um menino pobre\\nAndando \\u00e9 pelas cal\\u00e7adas\\nNas ruas sentindo a fome\\nE os frios das madrugadas\\nEstou sofrendo assim\\nSem roupas de p\\u00e9s no ch\\u00e3o\\nSempre pedindo pra mim\\nA sua metade do p\\u00e3o\\nAndo s\\u00f3 me encontrando\\nCom esses meninos pobres\\nQue passa mais um dia chorando\\nTentando esquecer da fome\\nMas a noite fica dif\\u00edcil\\nCom frio fome e solid\\u00e3o\\nEsta dor de um menino pobre\\nN\\u00e3o sai \\u00e9 do meu cora\\u00e7\\u00e3o\\nSou um menino pobre\\nPedindo \\u00e9 a fraternidade\\nBrasil mate a nossa fome\\nVamos crescer e ser um pais de verdade\"\n        ],\n        \"semantic_type\": \"\",\n        \"description\": \"\"\n      }\n    }\n  ]\n}"
            }
          },
          "metadata": {},
          "execution_count": 51
        }
      ]
    },
    {
      "cell_type": "code",
      "source": [
        "sentencasMasc = df2['Frase'].tolist()"
      ],
      "metadata": {
        "id": "0JsrEeZc6558"
      },
      "execution_count": null,
      "outputs": []
    },
    {
      "cell_type": "code",
      "source": [
        "batch_size = 16\n",
        "\n",
        "predicoes_finais2 = []\n",
        "\n",
        "model = model.to(device)\n",
        "model.eval()"
      ],
      "metadata": {
        "colab": {
          "base_uri": "https://localhost:8080/"
        },
        "id": "eYGqy0ap67cE",
        "outputId": "720fd86b-4d12-41b7-ee86-30b25319ef02"
      },
      "execution_count": null,
      "outputs": [
        {
          "output_type": "execute_result",
          "data": {
            "text/plain": [
              "BertForSequenceClassification(\n",
              "  (bert): BertModel(\n",
              "    (embeddings): BertEmbeddings(\n",
              "      (word_embeddings): Embedding(29794, 1024, padding_idx=0)\n",
              "      (position_embeddings): Embedding(512, 1024)\n",
              "      (token_type_embeddings): Embedding(2, 1024)\n",
              "      (LayerNorm): LayerNorm((1024,), eps=1e-12, elementwise_affine=True)\n",
              "      (dropout): Dropout(p=0.1, inplace=False)\n",
              "    )\n",
              "    (encoder): BertEncoder(\n",
              "      (layer): ModuleList(\n",
              "        (0-23): 24 x BertLayer(\n",
              "          (attention): BertAttention(\n",
              "            (self): BertSdpaSelfAttention(\n",
              "              (query): Linear(in_features=1024, out_features=1024, bias=True)\n",
              "              (key): Linear(in_features=1024, out_features=1024, bias=True)\n",
              "              (value): Linear(in_features=1024, out_features=1024, bias=True)\n",
              "              (dropout): Dropout(p=0.1, inplace=False)\n",
              "            )\n",
              "            (output): BertSelfOutput(\n",
              "              (dense): Linear(in_features=1024, out_features=1024, bias=True)\n",
              "              (LayerNorm): LayerNorm((1024,), eps=1e-12, elementwise_affine=True)\n",
              "              (dropout): Dropout(p=0.1, inplace=False)\n",
              "            )\n",
              "          )\n",
              "          (intermediate): BertIntermediate(\n",
              "            (dense): Linear(in_features=1024, out_features=4096, bias=True)\n",
              "            (intermediate_act_fn): GELUActivation()\n",
              "          )\n",
              "          (output): BertOutput(\n",
              "            (dense): Linear(in_features=4096, out_features=1024, bias=True)\n",
              "            (LayerNorm): LayerNorm((1024,), eps=1e-12, elementwise_affine=True)\n",
              "            (dropout): Dropout(p=0.1, inplace=False)\n",
              "          )\n",
              "        )\n",
              "      )\n",
              "    )\n",
              "    (pooler): BertPooler(\n",
              "      (dense): Linear(in_features=1024, out_features=1024, bias=True)\n",
              "      (activation): Tanh()\n",
              "    )\n",
              "  )\n",
              "  (dropout): Dropout(p=0.1, inplace=False)\n",
              "  (classifier): Linear(in_features=1024, out_features=5, bias=True)\n",
              ")"
            ]
          },
          "metadata": {},
          "execution_count": 53
        }
      ]
    },
    {
      "cell_type": "code",
      "source": [
        "# mini batch\n",
        "for i in range(0, len(sentencasMasc), batch_size):\n",
        "    sentencas2_lote = sentencasMasc[i:i+batch_size]\n",
        "\n",
        "    tokens = tokenizer(\n",
        "        sentencas2_lote,\n",
        "        padding=True,\n",
        "        truncation=True,\n",
        "        max_length=128,  # Mesmo max_length usado no treino\n",
        "        return_tensors=\"pt\"\n",
        "    )\n",
        "\n",
        "    tokens = {key: val.to(device) for key, val in tokens.items()}\n",
        "\n",
        "    with torch.no_grad():\n",
        "        outputs2 = model(**tokens)\n",
        "\n",
        "    # Obter as previsões (softmax -> argmax para pegar a classe mais provável)\n",
        "    pred_classes2 = torch.argmax(outputs2.logits, dim=1).cpu().numpy()  # Mover para a CPU pq tava dando estouro de GPU\n",
        "\n",
        "    predicoes_finais2.extend(pred_classes2)"
      ],
      "metadata": {
        "id": "DqxtPVCu69xI"
      },
      "execution_count": null,
      "outputs": []
    },
    {
      "cell_type": "code",
      "source": [
        "df2['Categoria'] = predicoes_finais2\n",
        "\n",
        "df2['Categoria'] = df2['Categoria'].map({0: 'Aparência', 1: 'Caráter', 2: 'Emoção', 3: 'Outro', 4: 'Papel Social'}) #{'Aparência': 0, 'Caráter': 1, 'Emoção': 2, 'Outro': 3, 'Papel Social': 4}"
      ],
      "metadata": {
        "id": "1hALb8_37BxD"
      },
      "execution_count": null,
      "outputs": []
    },
    {
      "cell_type": "code",
      "source": [
        "from google.colab import files\n",
        "\n",
        "df2.to_csv('df2_com_previsoes.csv', index=False)\n",
        "files.download('df2_com_previsoes.csv')"
      ],
      "metadata": {
        "colab": {
          "base_uri": "https://localhost:8080/",
          "height": 17
        },
        "id": "5RNFLIxj7L58",
        "outputId": "d406211b-ee0f-4949-fa6f-da0824eab307"
      },
      "execution_count": null,
      "outputs": [
        {
          "output_type": "display_data",
          "data": {
            "text/plain": [
              "<IPython.core.display.Javascript object>"
            ],
            "application/javascript": [
              "\n",
              "    async function download(id, filename, size) {\n",
              "      if (!google.colab.kernel.accessAllowed) {\n",
              "        return;\n",
              "      }\n",
              "      const div = document.createElement('div');\n",
              "      const label = document.createElement('label');\n",
              "      label.textContent = `Downloading \"${filename}\": `;\n",
              "      div.appendChild(label);\n",
              "      const progress = document.createElement('progress');\n",
              "      progress.max = size;\n",
              "      div.appendChild(progress);\n",
              "      document.body.appendChild(div);\n",
              "\n",
              "      const buffers = [];\n",
              "      let downloaded = 0;\n",
              "\n",
              "      const channel = await google.colab.kernel.comms.open(id);\n",
              "      // Send a message to notify the kernel that we're ready.\n",
              "      channel.send({})\n",
              "\n",
              "      for await (const message of channel.messages) {\n",
              "        // Send a message to notify the kernel that we're ready.\n",
              "        channel.send({})\n",
              "        if (message.buffers) {\n",
              "          for (const buffer of message.buffers) {\n",
              "            buffers.push(buffer);\n",
              "            downloaded += buffer.byteLength;\n",
              "            progress.value = downloaded;\n",
              "          }\n",
              "        }\n",
              "      }\n",
              "      const blob = new Blob(buffers, {type: 'application/binary'});\n",
              "      const a = document.createElement('a');\n",
              "      a.href = window.URL.createObjectURL(blob);\n",
              "      a.download = filename;\n",
              "      div.appendChild(a);\n",
              "      a.click();\n",
              "      div.remove();\n",
              "    }\n",
              "  "
            ]
          },
          "metadata": {}
        },
        {
          "output_type": "display_data",
          "data": {
            "text/plain": [
              "<IPython.core.display.Javascript object>"
            ],
            "application/javascript": [
              "download(\"download_0fc634be-0526-46d8-b4d2-2d3749197cbb\", \"df2_com_previsoes.csv\", 22963340)"
            ]
          },
          "metadata": {}
        }
      ]
    },
    {
      "cell_type": "code",
      "source": [
        "categoria_counts_df2 = df2['Categoria'].value_counts()\n",
        "print(categoria_counts_df2)"
      ],
      "metadata": {
        "colab": {
          "base_uri": "https://localhost:8080/"
        },
        "id": "3sEFP8yD7NkP",
        "outputId": "93932aa2-f1d0-4bed-fcfe-f0c26df2ef8f"
      },
      "execution_count": null,
      "outputs": [
        {
          "output_type": "stream",
          "name": "stdout",
          "text": [
            "Categoria\n",
            "Outro           5443\n",
            "Papel Social    3637\n",
            "Caráter         3165\n",
            "Aparência       1848\n",
            "Emoção           988\n",
            "Name: count, dtype: int64\n"
          ]
        }
      ]
    },
    {
      "cell_type": "markdown",
      "source": [
        "# Gráfico"
      ],
      "metadata": {
        "id": "v8x4FKnIB4Yj"
      }
    },
    {
      "cell_type": "code",
      "source": [
        "import matplotlib.pyplot as plt\n",
        "\n",
        "categorias = ['Appearance', 'Character', 'Social Role', 'Emotion']\n",
        "valores_male = [1848, 3165, 3637, 988]\n",
        "valores_female = [4175, 3223, 2550, 932]\n",
        "\n",
        "total_male = 15081\n",
        "total_female = 15223\n",
        "\n",
        "percentuais_male = [round((v / total_male) * 100, 2) for v in valores_male]\n",
        "percentuais_female = [round((v / total_female) * 100, 2) for v in valores_female]\n",
        "\n",
        "x = range(len(categorias))\n",
        "width = 0.35\n",
        "\n",
        "fig, ax = plt.subplots(figsize=(10, 6))\n",
        "rects_f = ax.bar([i - width/2 for i in x], percentuais_female, width, label='Female', color='grey')\n",
        "rects_m = ax.bar([i + width/2 for i in x], percentuais_male, width, label='Male', color='darkgrey')\n",
        "\n",
        "ax.set_ylabel('Percentage (%)')\n",
        "ax.set_xlabel('Category')\n",
        "ax.set_title('Category Distribution by Gender (% of Total Sentences per Gender)')\n",
        "ax.set_xticks(x)\n",
        "ax.set_xticklabels(categorias, rotation=45)\n",
        "ax.legend()\n",
        "\n",
        "def autolabel(rects, valores):\n",
        "    for rect, val in zip(rects, valores):\n",
        "        ax.annotate(f'{val}%',\n",
        "                    xy=(rect.get_x() + rect.get_width() / 2, rect.get_height()),\n",
        "                    xytext=(0, 3),\n",
        "                    textcoords=\"offset points\",\n",
        "                    ha='center', va='bottom')\n",
        "\n",
        "autolabel(rects_f, percentuais_female)\n",
        "autolabel(rects_m, percentuais_male)\n",
        "\n",
        "plt.tight_layout()\n",
        "plt.show()\n"
      ],
      "metadata": {
        "colab": {
          "base_uri": "https://localhost:8080/",
          "height": 607
        },
        "id": "C3HrWoQk-80e",
        "outputId": "4dcc4233-15c3-42eb-f1ac-91ed3a409322"
      },
      "execution_count": null,
      "outputs": [
        {
          "output_type": "display_data",
          "data": {
            "text/plain": [
              "<Figure size 1000x600 with 1 Axes>"
            ],
            "image/png": "[encoded data removed]"
          },
          "metadata": {}
        }
      ]
    }
  ],
  "metadata": {
    "accelerator": "GPU",
    "colab": {
      "gpuType": "T4",
      "provenance": []
    },
    "kernelspec": {
      "display_name": "Python 3",
      "name": "python3"
    },
    "language_info": {
      "name": "python"
    }
  },
  "nbformat": 4,
  "nbformat_minor": 0
}